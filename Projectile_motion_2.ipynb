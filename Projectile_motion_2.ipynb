{
  "nbformat": 4,
  "nbformat_minor": 0,
  "metadata": {
    "colab": {
      "name": "Projectile motion ver01.ipynb",
      "provenance": [],
      "collapsed_sections": [],
      "authorship_tag": "ABX9TyO8JG+YkaOWW/ZS3G6h4xtd",
      "include_colab_link": true
    },
    "kernelspec": {
      "name": "python3",
      "display_name": "Python 3"
    },
    "language_info": {
      "name": "python"
    }
  },
  "cells": [
    {
      "cell_type": "markdown",
      "metadata": {
        "id": "view-in-github",
        "colab_type": "text"
      },
      "source": [
        "<a href=\"https://colab.research.google.com/github/me4535/Projectile-motion-with-darg/blob/main/Projectile_motion_2.ipynb\" target=\"_parent\"><img src=\"https://colab.research.google.com/assets/colab-badge.svg\" alt=\"Open In Colab\"/></a>"
      ]
    },
    {
      "cell_type": "markdown",
      "source": [
        "Thư viện"
      ],
      "metadata": {
        "id": "ZOxF4lU6scgZ"
      }
    },
    {
      "cell_type": "markdown",
      "source": [
        "\n",
        "\n",
        "```\n",
        "Bước 1 : xác định các thông số đầu vào \n",
        "bước 2 : tính toán=> ghi kết quả vào mảng kết quả=> lặp lại quá trình tính toán đến khi chạm đất => dừng lại=> bước 3\n",
        "bước 3 : xuất kết quả\n",
        "```\n",
        "\n"
      ],
      "metadata": {
        "id": "lJdCImE0x4jk"
      }
    },
    {
      "cell_type": "code",
      "source": [
        "import matplotlib.pyplot as plt\n",
        "import numpy as np"
      ],
      "metadata": {
        "id": "LOg8z3nR72nm"
      },
      "execution_count": 2,
      "outputs": []
    },
    {
      "cell_type": "markdown",
      "source": [
        "Thông số "
      ],
      "metadata": {
        "id": "fgzSiXjfyAMF"
      }
    },
    {
      "cell_type": "code",
      "source": [
        "m=2.5 #khối lượng (kg)\n",
        "A= 0.012 #m², diện tích bề mặt A= 2pi*r*h với h là độ cao tính từ đáy của hình bán cầu, vì đây là đầu đạn bán cầu 90mm <=>r=h=45mm nên A=2pi*r² \n",
        "g=9.81 #gia tốc trọng trường\n",
        "v=50 #m/s, vận tốc đầu nòng \n",
        "ang=45 # góc bắn, đơn vị độ\n",
        "c=0.2 # hệ số cản \n",
        "p = 1.275 # mật độ không khí\n",
        "phi0 = np.radians(ang) # đổi góc phóng qua đơn vị rad\n",
        "print(phi0)"
      ],
      "metadata": {
        "colab": {
          "base_uri": "https://localhost:8080/"
        },
        "id": "wb31bBV0yC_V",
        "outputId": "369cd9dd-2df2-4132-bd35-a87385d0056c"
      },
      "execution_count": 50,
      "outputs": [
        {
          "output_type": "stream",
          "name": "stdout",
          "text": [
            "0.7853981633974483\n"
          ]
        }
      ]
    },
    {
      "cell_type": "markdown",
      "source": [
        " \n",
        "\n",
        "```\n",
        "ta có các công thức : \n",
        " Hệ số k = 1/2*c*p*A/m\n",
        " Vận tốc theo phương  \n",
        " Vx= V*cos(góc bắn)\n",
        " Vy= V*sin(góc bắn)\n",
        " gia tốc theo phương X \n",
        " Ax= -K*Vx*√vx ²+vy ²\n",
        " gia tốc phương Y\n",
        " Ay= -9.8-K*Vy*√vx ²+vy ²\n",
        " Vị trí theo trục X\n",
        " X= X hiện tại+ Vx* độ biến thiên thời gian aka delta(T)\n",
        " Y= Y hiện tại+ Vy* độ biến thiên thời gian aka delta(T)\n",
        "\n",
        "```\n",
        "\n",
        "\n",
        "\n"
      ],
      "metadata": {
        "id": "iivQHQ5_sl2v"
      }
    },
    {
      "cell_type": "code",
      "source": [
        "x=y=t=0\n",
        "rx=[0]\n",
        "ry=[0]\n",
        "Vy=v*np.sin(phi0)\n",
        "Vx=v*np.cos(phi0)\n",
        "ax=0\n",
        "ay=-9.81\n",
        "k = 0.5 * c  * p * A/m\n",
        "while(y >=0):\n",
        "  t=t+0.01\n",
        "  ax=-k*Vx*np.sqrt(Vx**2+Vy**2)\n",
        "  ay=-9.81-k*Vy*np.sqrt(Vx**2+Vy**2)\n",
        "  Vx=Vx+ax*0.01\n",
        "  Vy=Vy+ay*0.01\n",
        "  x=(x+Vx*0.01)\n",
        "  y=(y+Vy*0.01)\n",
        "  rx.append(x)\n",
        "  ry.append(y)\n",
        "print('Tầm bắn= {:.2f} m'.format(x))\n",
        "print('góc bắn',ang)\n",
        "plt.plot(rx,ry)\n",
        "plt.xlabel('x /m')\n",
        "plt.ylabel('h /m')\n",
        "plt.show()"
      ],
      "metadata": {
        "id": "ZhZU4cNO0X3j",
        "colab": {
          "base_uri": "https://localhost:8080/",
          "height": 314
        },
        "outputId": "a992b00a-913d-4569-e3ac-5709a345ad43"
      },
      "execution_count": 52,
      "outputs": [
        {
          "output_type": "stream",
          "name": "stdout",
          "text": [
            "Tầm bắn= 227.43 m\n",
            "góc bắn 45\n"
          ]
        },
        {
          "output_type": "display_data",
          "data": {
            "text/plain": [
              "<Figure size 432x288 with 1 Axes>"
            ],
            "image/png": "[encoded data removed]"
          },
          "metadata": {
            "needs_background": "light"
          }
        }
      ]
    }
  ]
}
