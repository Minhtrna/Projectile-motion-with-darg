{
  "nbformat": 4,
  "nbformat_minor": 0,
  "metadata": {
    "colab": {
      "name": "Projectile motion 2.ipynb",
      "provenance": [],
      "collapsed_sections": [],
      "authorship_tag": "ABX9TyOPG7v39jnKz/T+0xHW8CVY",
      "include_colab_link": true
    },
    "kernelspec": {
      "name": "python3",
      "display_name": "Python 3"
    },
    "language_info": {
      "name": "python"
    }
  },
  "cells": [
    {
      "cell_type": "markdown",
      "metadata": {
        "id": "view-in-github",
        "colab_type": "text"
      },
      "source": [
        "<a href=\"https://colab.research.google.com/github/me4535/Projectile-motion-with-darg/blob/main/Projectile_motion_ver02.ipynb\" target=\"_parent\"><img src=\"https://colab.research.google.com/assets/colab-badge.svg\" alt=\"Open In Colab\"/></a>"
      ]
    },
    {
      "cell_type": "markdown",
      "source": [
        "Thư viện"
      ],
      "metadata": {
        "id": "ZOxF4lU6scgZ"
      }
    },
    {
      "cell_type": "markdown",
      "source": [
        "\n",
        "\n",
        "```\n",
        "Bước 1 : xác định các thông số đầu vào \n",
        "bước 2 : tính toán=> ghi kết quả vào mảng kết quả=> lặp lại quá trình tính toán đến khi chạm đất => dừng lại=> bước 3\n",
        "bước 3 : xuất kết quả\n",
        "```\n",
        "\n"
      ],
      "metadata": {
        "id": "lJdCImE0x4jk"
      }
    },
    {
      "cell_type": "code",
      "source": [
        "import matplotlib.pyplot as plt\n",
        "import numpy as np"
      ],
      "metadata": {
        "id": "LOg8z3nR72nm"
      },
      "execution_count": null,
      "outputs": []
    },
    {
      "cell_type": "markdown",
      "source": [
        "Thông số "
      ],
      "metadata": {
        "id": "fgzSiXjfyAMF"
      }
    },
    {
      "cell_type": "code",
      "source": [
        "m=2.5 #khối lượng (kg)\n",
        "A= 0.012 #m², diện tích bề mặt A= 2pi*r*h với h là độ cao tính từ đáy của hình bán cầu, vì đây là đầu đạn bán cầu 90mm <=>r=h=45mm nên A=2pi*r² \n",
        "g=9.81 #gia tốc trọng trường\n",
        "v=50 #m/s, vận tốc đầu nòng \n",
        "ang=0 # góc bắn, đơn vị độ\n",
        "c=0.2 # hệ số cản \n",
        "p = 1.275 # mật độ không khí\n",
        "phi0 = np.radians(ang) # đổi góc phóng qua đơn vị rad\n",
        "print(phi0)"
      ],
      "metadata": {
        "id": "wb31bBV0yC_V",
        "colab": {
          "base_uri": "https://localhost:8080/"
        },
        "outputId": "2807c1d0-1e74-4859-8fb4-e996b452354c"
      },
      "execution_count": 98,
      "outputs": [
        {
          "output_type": "stream",
          "name": "stdout",
          "text": [
            "0.0\n"
          ]
        }
      ]
    },
    {
      "cell_type": "markdown",
      "source": [
        " \n",
        "\n",
        "```\n",
        "ta có các công thức : \n",
        " Hệ số k = 1/2*c*p*A/m\n",
        " Vận tốc theo phương  \n",
        " Vx= V*cos(góc bắn)\n",
        " Vy= V*sin(góc bắn)\n",
        " gia tốc theo phương X \n",
        " Ax= -K*Vx*√vx ²+vy ²\n",
        " gia tốc phương Y\n",
        " Ay= -9.8-K*Vy*√vx ²+vy ²\n",
        " Vị trí theo trục X\n",
        " X= X hiện tại+ Vx* độ biến thiên thời gian aka delta(T)\n",
        " Y= Y hiện tại+ Vy* độ biến thiên thời gian aka delta(T)\n",
        "49.992384757819565 Vy tại 1 độ\n",
        "0.8726203218641756 Vx tại 1 độ\n",
        "```\n",
        "\n",
        "\n",
        "\n"
      ],
      "metadata": {
        "id": "iivQHQ5_sl2v"
      }
    },
    {
      "cell_type": "markdown",
      "source": [
        "\n",
        "\n",
        "```\n",
        "Code chuẩn, không được sửa\n",
        "```\n",
        "\n"
      ],
      "metadata": {
        "id": "B4-tbWWXBNWP"
      }
    },
    {
      "cell_type": "code",
      "source": [
        "x=y=0\n",
        "rx=[0]\n",
        "ry=[0]\n",
        "Vy=v*np.sin(phi0)\n",
        "Vx=v*np.cos(phi0)\n",
        "ax=0\n",
        "ay=-9.81\n",
        "k = 0.5 * c  * p * A/m\n",
        "while(y >=0):\n",
        "  ax=-k*Vx*np.sqrt(Vx**2+Vy**2)\n",
        "  ay=-9.81-k*Vy*np.sqrt(Vx**2+Vy**2)\n",
        "  Vx=Vx+ax*0.01\n",
        "  Vy=Vy+ay*0.01\n",
        "  x=(x+Vx*0.01) \n",
        "  y=(y+Vy*0.01)\n",
        "  rx.append(x)\n",
        "  ry.append(y)\n",
        "print('Tầm bắn= {:.2f} m'.format(x))\n",
        "print('Độ cao= {:.2f} m'.format(y))\n",
        "print('góc bắn',ang)\n",
        "plt.plot(rx,ry)\n",
        "plt.xlabel('x /m')\n",
        "plt.ylabel('h /m')\n",
        "plt.show()"
      ],
      "metadata": {
        "id": "ZhZU4cNO0X3j",
        "colab": {
          "base_uri": "https://localhost:8080/",
          "height": 331
        },
        "outputId": "e5ac5f93-25c9-4855-916c-796aac2d5039"
      },
      "execution_count": 93,
      "outputs": [
        {
          "output_type": "stream",
          "name": "stdout",
          "text": [
            "Tầm bắn= 100.87 m\n",
            "Độ cao= -0.10 m\n",
            "góc bắn 12.2\n"
          ]
        },
        {
          "output_type": "display_data",
          "data": {
            "text/plain": [
              "<Figure size 432x288 with 1 Axes>"
            ],
            "image/png": "[encoded data removed]"
          },
          "metadata": {
            "needs_background": "light"
          }
        }
      ]
    },
    {
      "cell_type": "markdown",
      "source": [
        "\n",
        "\n",
        "```\n",
        "biết vận tốc ban đầu và khoảng cách đi được, tính góc bắn :V \n",
        "\n",
        "```\n",
        "![image.png](data:image/png;base64,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)\n"
      ],
      "metadata": {
        "id": "6RSFQXgmRQLB"
      }
    },
    {
      "cell_type": "code",
      "source": [
        "\n",
        "def tinhtoan(phi0):\n",
        "  x=y=0\n",
        "  Vy=v*np.sin(phi0)\n",
        "  Vx=v*np.cos(phi0)\n",
        "  ax=0\n",
        "  ay=-9.81\n",
        "  k = 0.5 * c  * p * A/m\n",
        "  while(y >=0):\n",
        "    ax=-k*Vx*np.sqrt(Vx**2+Vy**2)\n",
        "    ay=-9.81-k*Vy*np.sqrt(Vx**2+Vy**2)\n",
        "    Vx=Vx+ax*0.01\n",
        "    Vy=Vy+ay*0.01\n",
        "    x=(x+Vx*0.01) \n",
        "    y=(y+Vy*0.01)\n",
        "  return (x)\n",
        "# check giá trị trả về và update giá trị phi0\n",
        "while(tinhtoan(phi0)<100):\n",
        "  ang=ang+0.1\n",
        "  phi0 = np.radians(ang)\n",
        "  tinhtoan(phi0)\n",
        "print(tinhtoan(phi0))\n",
        "print('góc bắn cần thiết là: {:.2f} °'.format(ang))"
      ],
      "metadata": {
        "colab": {
          "base_uri": "https://localhost:8080/"
        },
        "id": "4E4huw5Ab6tH",
        "outputId": "83c6c64f-2b59-4f1d-8429-cc959689b31e"
      },
      "execution_count": 100,
      "outputs": [
        {
          "output_type": "stream",
          "name": "stdout",
          "text": [
            "100.87349112016503\n",
            "góc bắn cần thiết là: 12.20 °\n"
          ]
        }
      ]
    }
  ]
}